{
 "cells": [
  {
   "attachments": {},
   "cell_type": "markdown",
   "metadata": {},
   "source": [
    "### import"
   ]
  },
  {
   "cell_type": "code",
   "execution_count": 225,
   "metadata": {},
   "outputs": [],
   "source": [
    "import numpy as np\n",
    "import unittest\n",
    "import weakref\n",
    "import contextlib"
   ]
  },
  {
   "attachments": {},
   "cell_type": "markdown",
   "metadata": {},
   "source": [
    "Widely Using Function"
   ]
  },
  {
   "cell_type": "code",
   "execution_count": 226,
   "metadata": {},
   "outputs": [],
   "source": [
    "def as_array(x):\n",
    "    if np.isscalar(x):\n",
    "        return np.array(x)\n",
    "    return x"
   ]
  },
  {
   "attachments": {},
   "cell_type": "markdown",
   "metadata": {},
   "source": [
    "### Variable Declaration"
   ]
  },
  {
   "cell_type": "code",
   "execution_count": 227,
   "metadata": {},
   "outputs": [],
   "source": [
    "class Variable:\n",
    "    def __init__(self, data):\n",
    "        if data is not None:\n",
    "            if not isinstance(data, np.ndarray):\n",
    "                raise TypeError('{}은(는) 지원하지 않습니다.'.format(type(data)))\n",
    "            \n",
    "        self.data = data\n",
    "        self.grad = None\n",
    "        self.creator = None\n",
    "        self.generation = 0\n",
    "    \n",
    "    def cleargrad(self):\n",
    "        self.grad = None\n",
    "        \n",
    "    def set_creator(self, func):\n",
    "        self.creator = func\n",
    "        self.generation = func.generation + 1\n",
    "        \n",
    "    def backward(self, retain_grad=False):\n",
    "        if self.grad is None:\n",
    "            self.grad = np.ones_like(self.data)\n",
    "            \n",
    "        funcs = []\n",
    "        seen_set = set()\n",
    "        \n",
    "        def add_func(f):\n",
    "            if f not in seen_set:\n",
    "                funcs.append(f)\n",
    "                seen_set.add(f)\n",
    "                funcs.sort(key=lambda x: x.generation)\n",
    "                \n",
    "        add_func(self.creator)\n",
    "        \n",
    "        while funcs:\n",
    "            f = funcs.pop()\n",
    "            gys = [output().grad for output in f.outputs]\n",
    "            gxs = f.backward(*gys)\n",
    "            if not isinstance(gxs, tuple):\n",
    "                gxs = (gxs, )\n",
    "                \n",
    "            for x, gx in zip(f.inputs, gxs):\n",
    "                if x.grad is None:\n",
    "                    x.grad = gx\n",
    "                else:\n",
    "                    x.grad = x.grad + gx\n",
    "                \n",
    "                if x.creator is not None:\n",
    "                    add_func(x.creator)\n",
    "                    \n",
    "            if not retain_grad:\n",
    "                for y in f.outputs:\n",
    "                    y().grad = None"
   ]
  },
  {
   "attachments": {},
   "cell_type": "markdown",
   "metadata": {},
   "source": [
    "### Function(Parent class) Declaration"
   ]
  },
  {
   "cell_type": "code",
   "execution_count": 228,
   "metadata": {},
   "outputs": [],
   "source": [
    "class Config:\n",
    "    enable_backprop = True\n",
    "    \n",
    "@contextlib.contextmanager\n",
    "def using_config(name, value):\n",
    "    old_value = getattr(Config, name)\n",
    "    setattr(Config, name, value)\n",
    "    try:\n",
    "        yield\n",
    "    finally:\n",
    "        setattr(Config, name, old_value)\n",
    "        \n",
    "def no_grad():\n",
    "    return using_config('enable_backprop', False)\n",
    "\n",
    "class Function:\n",
    "    def __call__(self, *inputs):\n",
    "        xs = [x.data for x in inputs]\n",
    "        ys = self.forward(*xs)\n",
    "        if not isinstance(ys, tuple):\n",
    "            ys = (ys, )\n",
    "        outputs = [Variable(as_array(y)) for y in ys]\n",
    "        \n",
    "        if Config.enable_backprop:\n",
    "            self.generation = max([x.generation for x in inputs])\n",
    "            for output in outputs:\n",
    "                output.set_creator(self)\n",
    "            self.inputs = inputs\n",
    "            self.outputs = [weakref.ref(output) for output in outputs]\n",
    "        \n",
    "        return outputs if len(outputs) > 1 else outputs[0]\n",
    "    \n",
    "    def forward(self, x):\n",
    "        raise NotImplementedError()\n",
    "    \n",
    "    def backward(self, gy):\n",
    "        raise NotImplementedError()"
   ]
  },
  {
   "cell_type": "code",
   "execution_count": 229,
   "metadata": {},
   "outputs": [],
   "source": [
    "class Square(Function):\n",
    "    def forward(self, x):\n",
    "        y = x**2\n",
    "        return y\n",
    "    \n",
    "    def backward(self, gy):\n",
    "        x = self.inputs[0].data\n",
    "        gx = 2*x*gy\n",
    "        return gx"
   ]
  },
  {
   "cell_type": "code",
   "execution_count": 230,
   "metadata": {},
   "outputs": [],
   "source": [
    "class Exp(Function):\n",
    "    def forward(self, x):\n",
    "        y = np.exp(x)\n",
    "        return y\n",
    "    \n",
    "    def backward(self, gy):\n",
    "        x = self.input.data\n",
    "        gx = np.exp(x)*gy\n",
    "        return gx"
   ]
  },
  {
   "cell_type": "code",
   "execution_count": 231,
   "metadata": {},
   "outputs": [],
   "source": [
    "class Add(Function):\n",
    "    def forward(self, x0, x1):\n",
    "        y = x0 + x1\n",
    "        return y\n",
    "    \n",
    "    def backward(self, gy):\n",
    "        return gy, gy"
   ]
  },
  {
   "cell_type": "code",
   "execution_count": 232,
   "metadata": {},
   "outputs": [],
   "source": [
    "def add(x0, x1):\n",
    "    return Add()(x0, x1)\n",
    "\n",
    "def square(x):\n",
    "    return Square()(x)\n",
    "\n",
    "def exp(x):\n",
    "    return Exp()(x)"
   ]
  },
  {
   "cell_type": "code",
   "execution_count": 236,
   "metadata": {},
   "outputs": [],
   "source": [
    "def numerical_diff(f, x, eps=1e-4):\n",
    "    x0 = Variable(x.data - eps)\n",
    "    x1 = Variable(x.data + eps)\n",
    "    y0 = f(x0)\n",
    "    y1 = f(x1)\n",
    "    return (y1.data - y0.data)/(2*eps)"
   ]
  },
  {
   "cell_type": "code",
   "execution_count": 237,
   "metadata": {},
   "outputs": [],
   "source": [
    "class SquareTest(unittest.TestCase):\n",
    "    def test_forward(self):\n",
    "        x = Variable(np.array(2.0))\n",
    "        y = square(x)\n",
    "        expected = np.array(4.0)\n",
    "        self.assertEqual(y.data, expected)\n",
    "        \n",
    "    def test_backward(self):\n",
    "        x = Variable(np.array(3.0))\n",
    "        y = square(x)\n",
    "        y.backward()\n",
    "        expected = np.array(6.0)\n",
    "        self.assertEqual(x.grad, expected)\n",
    "        \n",
    "    def test_gradient_check(self):\n",
    "        x = Variable(np.random.rand(1))\n",
    "        y = square(x)\n",
    "        y.backward()\n",
    "        num_grad = numerical_diff(square, x)\n",
    "        flg = np.allclose(x.grad, num_grad)\n",
    "        self.assertTrue(flg)"
   ]
  },
  {
   "attachments": {},
   "cell_type": "markdown",
   "metadata": {},
   "source": [
    "### Exercise\n",
    "prevent memory leak by setting configuration"
   ]
  },
  {
   "cell_type": "code",
   "execution_count": 243,
   "metadata": {},
   "outputs": [
    {
     "name": "stdout",
     "output_type": "stream",
     "text": [
      "None None\n",
      "2.0 1.0\n"
     ]
    }
   ],
   "source": [
    "x0 = Variable(np.array(1.0))\n",
    "x1 = Variable(np.array(1.0))\n",
    "t = add(x0, x1)\n",
    "y = add(x0, t)\n",
    "y.backward()\n",
    "\n",
    "print(y.grad, t.grad)\n",
    "print(x0.grad, x1.grad)\n",
    "\n",
    "# before using retain_grad:\n",
    "# 1.0 1.0\n",
    "# 2.0 1.0"
   ]
  },
  {
   "cell_type": "code",
   "execution_count": 244,
   "metadata": {},
   "outputs": [],
   "source": [
    "Config.enable_backprop = True\n",
    "x = Variable(np.ones((100, 100, 100)))\n",
    "y = square(square(square(x)))\n",
    "y.backward()\n",
    "\n",
    "Config.enable_backprop = False\n",
    "x = Variable(np.ones((100, 100, 100)))\n",
    "y = square(square(square(x)))"
   ]
  },
  {
   "cell_type": "code",
   "execution_count": 245,
   "metadata": {},
   "outputs": [
    {
     "data": {
      "text/plain": [
       "\"\\n@contextlib.contextmanager\\ndef config_test():\\n    print('start')\\n    try:\\n        yield\\n    finally:\\n        print('done')\\n        \\nwith config_test():\\n    print('process...')\\n\""
      ]
     },
     "execution_count": 245,
     "metadata": {},
     "output_type": "execute_result"
    }
   ],
   "source": [
    "\"\"\"\n",
    "@contextlib.contextmanager\n",
    "def config_test():\n",
    "    print('start')\n",
    "    try:\n",
    "        yield\n",
    "    finally:\n",
    "        print('done')\n",
    "        \n",
    "with config_test():\n",
    "    print('process...')\n",
    "\"\"\""
   ]
  },
  {
   "cell_type": "code",
   "execution_count": 246,
   "metadata": {},
   "outputs": [],
   "source": [
    "with no_grad():\n",
    "    x = Variable(np.array(2.0))\n",
    "    y = square(x)"
   ]
  }
 ],
 "metadata": {
  "kernelspec": {
   "display_name": "base",
   "language": "python",
   "name": "python3"
  },
  "language_info": {
   "codemirror_mode": {
    "name": "ipython",
    "version": 3
   },
   "file_extension": ".py",
   "mimetype": "text/x-python",
   "name": "python",
   "nbconvert_exporter": "python",
   "pygments_lexer": "ipython3",
   "version": "3.9.16"
  },
  "orig_nbformat": 4
 },
 "nbformat": 4,
 "nbformat_minor": 2
}
